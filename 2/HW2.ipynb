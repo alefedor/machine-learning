{
 "cells": [
  {
   "cell_type": "markdown",
   "metadata": {},
   "source": [
    "# Task 1"
   ]
  },
  {
   "cell_type": "markdown",
   "metadata": {},
   "source": [
    "a) h(x) = +1 if x_i > a\n",
    "\n",
    "A breakpoint is 2.\n",
    "We cannot get proper division of points $(x_1, +), (x_2, -)$. If for the first point $x_1 > a$ then $x_2 \\geq x_1 > a$ $\\Rightarrow$ second point should be + too.\n",
    "\n",
    "It is easy to see that we can get any dichotomy for one point.\n",
    "\n",
    "VC-dimension = breakpoint - 1 = 1\n",
    "\n",
    "Growth function: m(n) = n + 1 \n",
    "(we can get any prefix of sorted by x points to be - and only those dichotomy are possible)"
   ]
  },
  {
   "cell_type": "markdown",
   "metadata": {},
   "source": [
    "b) h(x) = +1 if a < x_i < b\n",
    "\n",
    "A breakpoint is 3. We cannot get proper division of points $(x_1, +), (x_2, -), (x_3, +)$. \n",
    "Pluses form a consequent segment according to the hypothesis.\n",
    "\n",
    "VC-dimension = breakpoint - 1 = 2\n",
    "\n",
    "Growth function: $m(n) = \\frac {n(n+1)}{2} + 1$, because  \n",
    "we can get any consequent subsegment in sorted points to be + and there are $\\frac {n(n+1)}{2}$ non-empty segments and $1$ empty."
   ]
  },
  {
   "cell_type": "markdown",
   "metadata": {},
   "source": [
    "# Task 2"
   ]
  },
  {
   "cell_type": "code",
   "execution_count": 4,
   "metadata": {},
   "outputs": [],
   "source": [
    "import numpy as np\n",
    "import pandas as pd\n",
    "import matplotlib.pyplot as plt\n",
    "from sklearn.preprocessing import PolynomialFeatures"
   ]
  },
  {
   "cell_type": "code",
   "execution_count": 3,
   "metadata": {},
   "outputs": [],
   "source": [
    "blobs_data = np.array(pd.read_csv(\"../Datasets/blobs2.csv\"))"
   ]
  },
  {
   "cell_type": "code",
   "execution_count": 12,
   "metadata": {},
   "outputs": [],
   "source": [
    "def split_data(data):\n",
    "    training_data = []\n",
    "    test_data = []\n",
    "    \n",
    "    test_size = len(data) * 0.2\n",
    "    \n",
    "    training_data.extend(data)\n",
    "    \n",
    "    while (len(test_data) < test_size):\n",
    "        r = np.random.randint(0, len(training_data))\n",
    "        test_data.append(training_data[r])\n",
    "        training_data.pop(r)\n",
    "        \n",
    "    return (np.array(training_data), np.array(test_data)) \n",
    "\n",
    "def divide_xy(data):\n",
    "    x_data = data[:, 0:-1]\n",
    "    y_data = data[:, -1]\n",
    "    return (x_data, y_data)"
   ]
  },
  {
   "cell_type": "code",
   "execution_count": 48,
   "metadata": {},
   "outputs": [],
   "source": [
    "blobs_train_data, blobs_test_data = split_data(blobs_data)\n",
    "blobs_train_x, blobs_train_y = divide_xy(blobs_train_data)\n",
    "blobs_test_x, blobs_test_y = divide_xy(blobs_test_data)\n",
    "blobs_x, blobs_y = divide_xy(blobs_data)"
   ]
  },
  {
   "cell_type": "code",
   "execution_count": 103,
   "metadata": {},
   "outputs": [],
   "source": [
    "def sign(x):\n",
    "    return 1 if x >= 0 else 0\n",
    "\n",
    "def classify(w, x):\n",
    "    return sign(np.dot(w, x))\n",
    "\n",
    "def accuracy(w, xs, ys):\n",
    "    return np.mean([1 if classify(w, x) == y else 0 for (x, y) in zip(xs, ys)])\n",
    "\n",
    "def polynomial_features(xs, degree):\n",
    "    return PolynomialFeatures(degree).fit_transform(xs)\n",
    "\n",
    "def pocket_perceptron_algorithm(train_x, train_y, test_x, test_y, degree):\n",
    "    train_x = polynomial_features(train_x, degree)\n",
    "    test_x = polynomial_features(test_x, degree)\n",
    "    \n",
    "    w = np.random.uniform(-1, 1, train_x.shape[1])\n",
    "    \n",
    "    best_w = w\n",
    "    \n",
    "    iterations = 200\n",
    "    \n",
    "    for it in range(iterations):\n",
    "        bad_ids = []\n",
    "        \n",
    "        for i in range(len(train_x)):\n",
    "            if (classify(w, train_x[i]) != train_y[i]):\n",
    "                bad_ids.append(i)\n",
    "                \n",
    "        if (len(bad_ids) == 0):\n",
    "            return best_w # perfect division found\n",
    "        \n",
    "        id = np.random.choice(bad_ids)\n",
    "        \n",
    "        w = w + (1 if train_y[id] == 1 else -1) * train_x[id]\n",
    "        \n",
    "        if (accuracy(w, test_x, test_y) > accuracy(best_w, test_x, test_y)):\n",
    "            best_w = w\n",
    "            \n",
    "    return best_w        "
   ]
  },
  {
   "cell_type": "code",
   "execution_count": 100,
   "metadata": {},
   "outputs": [],
   "source": [
    "def random_color():\n",
    "    return np.random.rand(3,)\n",
    "\n",
    "def draw_perceptron(data_x, data_y, w, degree):\n",
    "    x_min = min([x[0] for x in data_x]) - 1\n",
    "    x_max = max([x[0] for x in data_x]) + 1\n",
    "    y_min = min([x[1] for x in data_x]) - 1\n",
    "    y_max = max([x[1] for x in data_x]) + 1\n",
    "    \n",
    "    xs, ys = np.meshgrid(np.arange(x_min, x_max, 0.05), np.arange(y_min, y_max, 0.05))\n",
    "    \n",
    "    zs = xs.copy()\n",
    "    \n",
    "    for i in range(xs.shape[0]):\n",
    "        for j in range(xs.shape[1]):\n",
    "            p = np.array([xs[i][j], ys[i][j]])\n",
    "            p = polynomial_features(np.array([p]), degree)[0]\n",
    "            zs[i][j] = classify(w, p)\n",
    "    \n",
    "    plt.contourf(xs, ys, zs, colors=[random_color(), random_color(), random_color(), random_color()])\n",
    "    \n",
    "    for t in [0, 1]:\n",
    "        xs = []\n",
    "        ys = []\n",
    "        \n",
    "        \n",
    "        xs_support = []\n",
    "        ys_support = []\n",
    "        \n",
    "        for i in range(len(data_y)):\n",
    "            if (data_y[i] == t):\n",
    "                xs.append(data_x[i][0])\n",
    "                ys.append(data_x[i][1])\n",
    "        \n",
    "        plt.plot(xs, ys, marker='o', color=np.random.rand(3,), ls='')\n",
    "    \n",
    "    plt.show()\n",
    "    \n",
    "    plt.close()"
   ]
  },
  {
   "cell_type": "code",
   "execution_count": 101,
   "metadata": {},
   "outputs": [],
   "source": [
    "def accuracy_with_degree(w, xs, ys, degree):\n",
    "    xs = polynomial_features(xs, degree)\n",
    "    return accuracy(w, xs, ys)\n",
    "\n",
    "def show_perceptron_for_degree(degree):\n",
    "    w = pocket_perceptron_algorithm(blobs_train_x, blobs_train_y, blobs_test_x, blobs_test_y, degree)\n",
    "    print(\"Data accuracy: \" + str(accuracy_with_degree(w, blobs_x, blobs_y, degree)))\n",
    "    print(\"Train accuracy: \" + str(accuracy_with_degree(w, blobs_train_x, blobs_train_y, degree)))\n",
    "    print(\"Test accuracy: \" + str(accuracy_with_degree(w, blobs_test_x, blobs_test_y, degree)))\n",
    "    draw_perceptron(blobs_x, blobs_y, w, degree)"
   ]
  },
  {
   "cell_type": "code",
   "execution_count": 122,
   "metadata": {},
   "outputs": [
    {
     "name": "stdout",
     "output_type": "stream",
     "text": [
      "Data accuracy: 0.98\n",
      "Train accuracy: 0.985\n",
      "Test accuracy: 0.96\n"
     ]
    },
    {
     "data": {
      "image/png": "[encoded data removed]",
      "text/plain": [
       "<matplotlib.figure.Figure at 0x7f9cc58fcc18>"
      ]
     },
     "metadata": {
      "needs_background": "light"
     },
     "output_type": "display_data"
    }
   ],
   "source": [
    "show_perceptron_for_degree(1)"
   ]
  },
  {
   "cell_type": "markdown",
   "metadata": {},
   "source": [
    "# Task 3"
   ]
  },
  {
   "cell_type": "code",
   "execution_count": 104,
   "metadata": {},
   "outputs": [
    {
     "name": "stdout",
     "output_type": "stream",
     "text": [
      "Data accuracy: 0.979\n",
      "Train accuracy: 0.98375\n",
      "Test accuracy: 0.96\n"
     ]
    },
    {
     "data": {
      "image/png": "[encoded data removed]",
      "text/plain": [
       "<matplotlib.figure.Figure at 0x7f9cc5855080>"
      ]
     },
     "metadata": {
      "needs_background": "light"
     },
     "output_type": "display_data"
    }
   ],
   "source": [
    "show_perceptron_for_degree(2)"
   ]
  },
  {
   "cell_type": "code",
   "execution_count": 93,
   "metadata": {},
   "outputs": [
    {
     "name": "stdout",
     "output_type": "stream",
     "text": [
      "Data accuracy: 0.982\n",
      "Train accuracy: 0.98625\n",
      "Test accuracy: 0.965\n"
     ]
    },
    {
     "data": {
      "image/png": "[encoded data removed]",
      "text/plain": [
       "<matplotlib.figure.Figure at 0x7f9cc5a2eb70>"
      ]
     },
     "metadata": {
      "needs_background": "light"
     },
     "output_type": "display_data"
    }
   ],
   "source": [
    "show_perceptron_for_degree(3)"
   ]
  },
  {
   "cell_type": "code",
   "execution_count": 94,
   "metadata": {},
   "outputs": [
    {
     "name": "stdout",
     "output_type": "stream",
     "text": [
      "Data accuracy: 0.977\n",
      "Train accuracy: 0.98125\n",
      "Test accuracy: 0.96\n"
     ]
    },
    {
     "data": {
      "image/png": "[encoded data removed]",
      "text/plain": [
       "<matplotlib.figure.Figure at 0x7f9cc731f0b8>"
      ]
     },
     "metadata": {
      "needs_background": "light"
     },
     "output_type": "display_data"
    }
   ],
   "source": [
    "show_perceptron_for_degree(4)"
   ]
  },
  {
   "cell_type": "markdown",
   "metadata": {},
   "source": [
    "The best accuracy is for degree 3. "
   ]
  },
  {
   "cell_type": "markdown",
   "metadata": {},
   "source": [
    "# Task 4"
   ]
  },
  {
   "cell_type": "code",
   "execution_count": 144,
   "metadata": {},
   "outputs": [],
   "source": [
    "spam_data = np.array(pd.read_csv(\"../Datasets/spam.csv\"))\n",
    "\n",
    "cancer_data = np.array(pd.read_csv(\"../Datasets/cancer.csv\"))\n",
    "\n",
    "for i in range(len(cancer_data)):\n",
    "    label = cancer_data[i][0]\n",
    "    for j in range(1, len(cancer_data[i])):\n",
    "        cancer_data[i][j - 1] = cancer_data[i][j]\n",
    "    cancer_data[i][-1] = 0 if (label == 'B') else 1"
   ]
  },
  {
   "cell_type": "code",
   "execution_count": 191,
   "metadata": {},
   "outputs": [],
   "source": [
    "def scale_min_max(data):\n",
    "    data = data.copy()\n",
    "    features = data.shape[1]\n",
    "    \n",
    "    for j in range(features):\n",
    "        mn = min([data[i][j] for i in range(len(data))])\n",
    "        mx = max([data[i][j] for i in range(len(data))])\n",
    "        for i in range(len(data)):\n",
    "            data[i][j] = (data[i][j] - mn) / (mx - mn)\n",
    "    return data\n",
    "\n",
    "def fix_y(y):\n",
    "    for i in range(len(y)):\n",
    "        if (y[i] == 0):\n",
    "            y[i] = -1\n",
    "    return y        "
   ]
  },
  {
   "cell_type": "code",
   "execution_count": 192,
   "metadata": {},
   "outputs": [],
   "source": [
    "spam_x, spam_y = divide_xy(spam_data)\n",
    "cancer_x, cancer_y = divide_xy(cancer_data)\n",
    "\n",
    "spam_x = scale_min_max(spam_x)\n",
    "cancer_x = scale_min_max(cancer_x)\n",
    "\n",
    "spam_y = fix_y(spam_y)\n",
    "cancer_y = fix_y(cancer_y)"
   ]
  },
  {
   "cell_type": "code",
   "execution_count": 202,
   "metadata": {},
   "outputs": [],
   "source": [
    "def sigmoid(x):\n",
    "    return 1.0 / (1 + np.exp(-x))\n",
    "\n",
    "def logistic_gradient(x, y, w):\n",
    "    return -y * x / (1 + np.exp(y * np.dot(w, x)))\n",
    "\n",
    "def logistic_classify(x, w):\n",
    "    return 1 if (sigmoid(np.dot(w, x)) > 0.5) else -1\n",
    "\n",
    "def logistic_regression_accuracy(data_x, data_y, w):\n",
    "    return np.mean([1 if (logistic_classify(x, w) == y) else 0 for (x, y) in zip(data_x, data_y)])\n",
    "\n",
    "def logistic_regression(data_x, data_y, iterations=1000):\n",
    "    batch_size = 50\n",
    "    alpha = 0.05\n",
    "    \n",
    "    data_x = scale_min_max(data_x)\n",
    "    data_x = polynomial_features(data_x, 1)\n",
    "    \n",
    "    w = np.random.uniform(-1, 1, data_x.shape[1])\n",
    "    result = [logistic_regression_accuracy(data_x, data_y, w)]\n",
    "    \n",
    "    for it in range(iterations):\n",
    "        gradient = np.array([0 for i in range(len(w))])\n",
    "        for i in range(batch_size):\n",
    "            id = np.random.randint(0, len(data_x))\n",
    "            gradient = gradient + logistic_gradient(data_x[id], data_y[id], w)\n",
    "        gradient = gradient / batch_size\n",
    "        w = w - alpha * gradient\n",
    "        result.append(logistic_regression_accuracy(data_x, data_y, w))\n",
    "    return result"
   ]
  },
  {
   "cell_type": "code",
   "execution_count": 203,
   "metadata": {},
   "outputs": [],
   "source": [
    "def draw_accuracy_curve(ys):\n",
    "    plt.plot(range(0, len(ys)), ys)\n",
    "    plt.xlabel(\"iteration\")\n",
    "    plt.ylabel(\"accuracy\")\n",
    "    plt.show()\n",
    "    plt.close()"
   ]
  },
  {
   "cell_type": "code",
   "execution_count": 206,
   "metadata": {},
   "outputs": [
    {
     "name": "stdout",
     "output_type": "stream",
     "text": [
      "Cancer dataset\n"
     ]
    },
    {
     "data": {
      "image/png": "[encoded data removed]",
      "text/plain": [
       "<matplotlib.figure.Figure at 0x7f9cc573f0f0>"
      ]
     },
     "metadata": {
      "needs_background": "light"
     },
     "output_type": "display_data"
    }
   ],
   "source": [
    "print(\"Cancer dataset\")\n",
    "draw_accuracy_curve(logistic_regression(cancer_x, cancer_y))"
   ]
  },
  {
   "cell_type": "code",
   "execution_count": 207,
   "metadata": {},
   "outputs": [
    {
     "name": "stdout",
     "output_type": "stream",
     "text": [
      "Spam dataset\n"
     ]
    },
    {
     "data": {
      "image/png": "[encoded data removed]",
      "text/plain": [
       "<matplotlib.figure.Figure at 0x7f9cc72d0278>"
      ]
     },
     "metadata": {
      "needs_background": "light"
     },
     "output_type": "display_data"
    }
   ],
   "source": [
    "print(\"Spam dataset\")\n",
    "draw_accuracy_curve(logistic_regression(spam_x, spam_y, 10000))"
   ]
  },
  {
   "cell_type": "markdown",
   "metadata": {},
   "source": [
    "# Task 5"
   ]
  },
  {
   "cell_type": "code",
   "execution_count": 5,
   "metadata": {},
   "outputs": [],
   "source": [
    "image_size = 28 # width = height\n",
    "\n",
    "def load_mnist_data():\n",
    "    data = np.array(pd.read_csv(\"../Datasets/mnist.csv\"))\n",
    "    data_y = data[:,0]\n",
    "    data = data[:,1:]\n",
    "    data_x = np.zeros((len(data), image_size, image_size))\n",
    "    \n",
    "    for i in range(len(data)):\n",
    "        for j in range(image_size):\n",
    "            for k in range(image_size):\n",
    "                data_x[i][j][k] = data[i][j * 28 + k]\n",
    "    \n",
    "    return (data_x, data_y)\n",
    "    \n",
    "mnist_data_x, mnist_data_y = load_mnist_data()    "
   ]
  },
  {
   "cell_type": "code",
   "execution_count": 399,
   "metadata": {},
   "outputs": [
    {
     "name": "stdout",
     "output_type": "stream",
     "text": [
      "Data size: 10000\n",
      "Label: 0\n"
     ]
    },
    {
     "data": {
      "text/plain": [
       "<matplotlib.image.AxesImage at 0x7f9c4c092ef0>"
      ]
     },
     "execution_count": 399,
     "metadata": {},
     "output_type": "execute_result"
    },
    {
     "data": {
      "image/png": "[encoded data removed]",
      "text/plain": [
       "<matplotlib.figure.Figure at 0x7f9c44ca9cc0>"
      ]
     },
     "metadata": {
      "needs_background": "light"
     },
     "output_type": "display_data"
    }
   ],
   "source": [
    "print(\"Data size: \" + str(len(mnist_data_x)))\n",
    "id = np.random.randint(0, len(mnist_data_x))\n",
    "print(\"Label: \" + str(mnist_data_y[id]))\n",
    "plt.imshow(mnist_data_x[id])      "
   ]
  },
  {
   "cell_type": "code",
   "execution_count": 20,
   "metadata": {},
   "outputs": [],
   "source": [
    "import os\n",
    "import cv2\n",
    "\n",
    "def load_not_mnist_data():\n",
    "    not_mnist_path = \"../Datasets/notMNIST_small\"\n",
    "    \n",
    "    data_x = []\n",
    "    data_y = []\n",
    "    \n",
    "    files = []\n",
    "    \n",
    "    for y in os.listdir(not_mnist_path):\n",
    "        for (directory, _, inner_files) in os.walk(os.path.join(not_mnist_path, y)):\n",
    "            files.extend([os.path.join(directory, file) for file in inner_files])\n",
    "            data_y.extend([y for i in range(len(inner_files))])\n",
    "    for i in range(len(files)):\n",
    "        data_x.append(cv2.imread(files[i], cv2.IMREAD_GRAYSCALE))\n",
    "    \n",
    "    to_delete = []\n",
    "        \n",
    "    s = set()    \n",
    "        \n",
    "    for i in range(len(data_x)):\n",
    "        if (data_x[i] is None or len(data_x[i]) == 0):\n",
    "            to_delete.append(i)\n",
    "    \n",
    "    to_delete.reverse()\n",
    "    for id in to_delete:\n",
    "        data_x.pop(id)\n",
    "        data_y.pop(id)\n",
    "        \n",
    "    return (np.array(data_x), np.array(data_y))  \n",
    "\n",
    "not_mnist_data_x, not_mnist_data_y = load_not_mnist_data()  "
   ]
  },
  {
   "cell_type": "code",
   "execution_count": 282,
   "metadata": {},
   "outputs": [
    {
     "name": "stdout",
     "output_type": "stream",
     "text": [
      "Data size: 18724\n",
      "Label: G\n"
     ]
    },
    {
     "data": {
      "text/plain": [
       "<matplotlib.image.AxesImage at 0x7f9cc7247588>"
      ]
     },
     "execution_count": 282,
     "metadata": {},
     "output_type": "execute_result"
    },
    {
     "data": {
      "image/png": "[encoded data removed]",
      "text/plain": [
       "<matplotlib.figure.Figure at 0x7f9cc57e2d30>"
      ]
     },
     "metadata": {
      "needs_background": "light"
     },
     "output_type": "display_data"
    }
   ],
   "source": [
    "print(\"Data size: \" + str(len(not_mnist_data_x)))\n",
    "id = np.random.randint(0, len(not_mnist_data_x))\n",
    "print(\"Label: \" + str(not_mnist_data_y[id]))\n",
    "plt.imshow(not_mnist_data_x[id])   "
   ]
  },
  {
   "cell_type": "markdown",
   "metadata": {},
   "source": [
    "# Task 6"
   ]
  },
  {
   "cell_type": "code",
   "execution_count": 8,
   "metadata": {},
   "outputs": [
    {
     "name": "stderr",
     "output_type": "stream",
     "text": [
      "Using TensorFlow backend.\n"
     ]
    }
   ],
   "source": [
    "import keras\n",
    "\n",
    "epochs = 5\n",
    "classes = 10\n",
    "batch_size = 100"
   ]
  },
  {
   "cell_type": "markdown",
   "metadata": {},
   "source": [
    "Standard scaling for better performance."
   ]
  },
  {
   "cell_type": "code",
   "execution_count": 9,
   "metadata": {},
   "outputs": [],
   "source": [
    "from sklearn.preprocessing import StandardScaler\n",
    "from sklearn.preprocessing import MinMaxScaler\n",
    "\n",
    "def scale_data(data_x):\n",
    "    shapes = data_x.shape\n",
    "    data_x = data_x.astype('float64')\n",
    "    data_x = data_x.reshape((data_x.shape[0], image_size * image_size))\n",
    "    x_scale = MinMaxScaler()\n",
    "    result = x_scale.fit_transform(data_x)\n",
    "    return result.reshape(shapes)\n",
    "    \n",
    "def split_train_test(data_x, data_y):\n",
    "    train_data_x = [] \n",
    "    train_data_y = []\n",
    "    train_data_x.extend(data_x)\n",
    "    train_data_y.extend(data_y)\n",
    "    \n",
    "    test_proportion = 0.2\n",
    "    test_size = int(len(train_data_x) * test_proportion)\n",
    "    \n",
    "    test_data_x = []\n",
    "    test_data_y = []\n",
    "    \n",
    "    for i in range(test_size):\n",
    "        id = np.random.randint(0, len(train_data_x))\n",
    "        test_data_x.append(train_data_x[id])\n",
    "        test_data_y.append(train_data_y[id])\n",
    "        train_data_x.pop(id)\n",
    "        train_data_y.pop(id)\n",
    "        \n",
    "    return (np.array(train_data_x), np.array(train_data_y), np.array(test_data_x), np.array(test_data_y))"
   ]
  },
  {
   "cell_type": "code",
   "execution_count": 21,
   "metadata": {},
   "outputs": [],
   "source": [
    "mnist_data_x = scale_data(mnist_data_x)\n",
    "not_mnist_data_x = scale_data(not_mnist_data_x)\n",
    "\n",
    "cat_mnist_data_y = keras.utils.to_categorical(mnist_data_y, classes)\n",
    "cat_not_mnist_data_y = not_mnist_data_y.copy()\n",
    "for i in range(len(cat_not_mnist_data_y)):\n",
    "    cat_not_mnist_data_y[i] = ord(cat_not_mnist_data_y[i]) - ord('A')\n",
    "cat_not_mnist_data_y = keras.utils.to_categorical(cat_not_mnist_data_y, classes)"
   ]
  },
  {
   "cell_type": "code",
   "execution_count": 22,
   "metadata": {},
   "outputs": [],
   "source": [
    "mnist_train_x, mnist_train_y, mnist_test_x, mnist_test_y = split_train_test(mnist_data_x, cat_mnist_data_y)\n",
    "not_mnist_train_x, not_mnist_train_y, not_mnist_test_x, not_mnist_test_y = \\\n",
    "    split_train_test(not_mnist_data_x, cat_not_mnist_data_y)"
   ]
  },
  {
   "cell_type": "code",
   "execution_count": 12,
   "metadata": {},
   "outputs": [],
   "source": [
    "from keras.layers import Conv2D, Dense, Flatten, MaxPooling2D, Dropout\n",
    "from keras.models import Sequential\n",
    "from sklearn.model_selection import train_test_split\n",
    "\n",
    "input_shape = (image_size, image_size, 1)\n",
    "\n",
    "def train_model(train_x, train_y, activation):\n",
    "    train_x, valid_x, train_y, valid_y = train_test_split(train_x, train_y, test_size=0.2, shuffle= True)\n",
    "    \n",
    "    train_x = train_x.reshape(train_x.shape[0], image_size, image_size, 1)\n",
    "    valid_x = valid_x.reshape(valid_x.shape[0], image_size, image_size, 1)\n",
    "    \n",
    "    model = Sequential()\n",
    "    model.add(Conv2D(8, (3, 3), activation=activation))\n",
    "    model.add(Conv2D(8, (3, 3), activation=activation))\n",
    "    model.add(Conv2D(8, (3, 3), activation=activation))\n",
    "    model.add(Flatten())\n",
    "    model.add(Dense(64, activation=activation))\n",
    "    model.add(Dense(64, activation=activation))\n",
    "    model.add(Dense(classes, activation='softmax'))\n",
    "    \n",
    "    model.compile(\n",
    "        loss=keras.losses.categorical_crossentropy, \n",
    "        optimizer=keras.optimizers.Adadelta(),\n",
    "        metrics=['accuracy']\n",
    "    )\n",
    "    \n",
    "    model.fit(\n",
    "        x=train_x, y=train_y,\n",
    "        batch_size=batch_size,\n",
    "        epochs=epochs,\n",
    "        verbose=0,\n",
    "        validation_data=(valid_x, valid_y)\n",
    "    )\n",
    "    return model"
   ]
  },
  {
   "cell_type": "code",
   "execution_count": 485,
   "metadata": {},
   "outputs": [
    {
     "name": "stdout",
     "output_type": "stream",
     "text": [
      "For activation = relu:\n",
      "Test accuracy: 0.9615\n",
      "For activation = tanh:\n",
      "Test accuracy: 0.947\n",
      "For activation = sigmoid:\n",
      "Test accuracy: 0.1025\n"
     ]
    }
   ],
   "source": [
    "mnist_test_x = mnist_test_x.reshape(mnist_test_x.shape[0], image_size, image_size, 1)\n",
    "for activation in ['relu', 'tanh', 'sigmoid']:\n",
    "    model = train_model(mnist_train_x, mnist_train_y, activation)\n",
    "    print(\"For activation = \" + str(activation) + \":\")\n",
    "    print(\"Test accuracy: \" + str(model.evaluate(mnist_test_x, mnist_test_y, verbose=0)[1]))"
   ]
  },
  {
   "cell_type": "markdown",
   "metadata": {},
   "source": [
    "Model doesn't learn with sigmoid activation function for some reason."
   ]
  },
  {
   "cell_type": "code",
   "execution_count": 99,
   "metadata": {},
   "outputs": [
    {
     "name": "stdout",
     "output_type": "stream",
     "text": [
      "For activation = sigmoid:\n",
      "Test accuracy: 0.7875\n"
     ]
    }
   ],
   "source": [
    "def train_model_fixed(train_x, train_y, activation):\n",
    "    train_x, valid_x, train_y, valid_y = train_test_split(train_x, train_y, test_size=0.2, shuffle= True)\n",
    "    \n",
    "    train_x = train_x.reshape(train_x.shape[0], image_size, image_size, 1)\n",
    "    valid_x = valid_x.reshape(valid_x.shape[0], image_size, image_size, 1)\n",
    "    \n",
    "    model = Sequential()\n",
    "    #model.add(Conv2D(8, (3, 3), activation=activation))\n",
    "    #model.add(Conv2D(8, (3, 3), activation=activation))\n",
    "    model.add(Conv2D(8, (3, 3), activation=activation))\n",
    "    model.add(Flatten())\n",
    "    model.add(Dense(64, activation=activation))\n",
    "    model.add(Dense(64, activation=activation))\n",
    "    model.add(Dense(classes, activation='softmax'))\n",
    "    \n",
    "    model.compile(\n",
    "        loss=keras.losses.categorical_crossentropy, \n",
    "        optimizer=keras.optimizers.Adadelta(),\n",
    "        metrics=['accuracy']\n",
    "    )\n",
    "    \n",
    "    model.fit(\n",
    "        x=train_x, y=train_y,\n",
    "        batch_size=batch_size,\n",
    "        epochs=epochs,\n",
    "        verbose=0,\n",
    "        validation_data=(valid_x, valid_y)\n",
    "    )\n",
    "    return model\n",
    "\n",
    "mnist_test_x = mnist_test_x.reshape(mnist_test_x.shape[0], image_size, image_size, 1)\n",
    "activation = 'sigmoid'\n",
    "model = train_model_fixed(mnist_train_x, mnist_train_y, activation)\n",
    "print(\"For activation = \" + str(activation) + \":\")\n",
    "print(\"Test accuracy: \" + str(model.evaluate(mnist_test_x, mnist_test_y, verbose=0)[1]))"
   ]
  },
  {
   "cell_type": "markdown",
   "metadata": {},
   "source": [
    "Model with sigmoid function learns only when there are one or zero convolutional layers."
   ]
  },
  {
   "cell_type": "markdown",
   "metadata": {},
   "source": [
    "# Task 7"
   ]
  },
  {
   "cell_type": "code",
   "execution_count": 487,
   "metadata": {},
   "outputs": [
    {
     "name": "stdout",
     "output_type": "stream",
     "text": [
      "Test accuracy: 0.9043803418803419\n"
     ]
    }
   ],
   "source": [
    "epochs = 2\n",
    "not_mnist_test_x = not_mnist_test_x.reshape(not_mnist_test_x.shape[0], image_size, image_size, 1)\n",
    "model = train_model(not_mnist_train_x, not_mnist_train_y, 'relu')\n",
    "print(\"Test accuracy: \" + str(model.evaluate(not_mnist_test_x, not_mnist_test_y, verbose=0)[1]))"
   ]
  },
  {
   "cell_type": "markdown",
   "metadata": {},
   "source": [
    "Got accuracy $\\geq 0.9$ after the second epoch."
   ]
  },
  {
   "cell_type": "markdown",
   "metadata": {},
   "source": [
    "# Task 8"
   ]
  },
  {
   "cell_type": "code",
   "execution_count": 23,
   "metadata": {},
   "outputs": [],
   "source": [
    "def randomly_shifted(arr):\n",
    "    result = arr.copy()\n",
    "    \n",
    "    dx = np.random.randint(-3, 4)\n",
    "    dy = np.random.randint(-3, 4)\n",
    "    \n",
    "    for i in range(arr.shape[0]):\n",
    "        for j in range(arr.shape[1]):\n",
    "            ni = i + dx\n",
    "            nj = j + dy\n",
    "            \n",
    "            if (0 > ni or ni >= arr.shape[0]):\n",
    "                continue\n",
    "            if (0 > nj or nj >= arr.shape[1]):\n",
    "                continue\n",
    "            result[i][j] = arr[ni][nj]\n",
    "    return result\n",
    "    \n",
    "def get_sample(data_x, data_y, proportion):\n",
    "    size = int(len(data_x) * proportion)\n",
    "    result_x = []\n",
    "    result_y = []\n",
    "        \n",
    "    ids = np.arange(0, len(data_x))\n",
    "    np.random.shuffle(ids)\n",
    "    \n",
    "    data_x = data_x.reshape(len(data_x), image_size, image_size)\n",
    "    \n",
    "    for i in range(size):\n",
    "        result_x.append(randomly_shifted(data_x[ids[i]]))\n",
    "        result_y.append(data_y[ids[i]])\n",
    "    \n",
    "    return (np.array(result_x).reshape(len(result_x), image_size, image_size, 1), np.array(result_y))"
   ]
  },
  {
   "cell_type": "code",
   "execution_count": 41,
   "metadata": {},
   "outputs": [],
   "source": [
    "def train_model(train_x, train_y, activation):    \n",
    "    train_x = train_x.copy()\n",
    "    train_x = train_x.reshape(train_x.shape[0], image_size, image_size, 1)\n",
    "    \n",
    "    model = Sequential()\n",
    "    model.add(Conv2D(32, (3, 3), activation=activation))\n",
    "    model.add(Flatten())\n",
    "    model.add(Dense(128, activation=activation))\n",
    "    model.add(Dense(classes, activation='softmax'))\n",
    "    \n",
    "    model.compile(\n",
    "        loss=keras.losses.categorical_crossentropy, \n",
    "        optimizer=keras.optimizers.Adadelta(),\n",
    "        metrics=['accuracy']\n",
    "    )\n",
    "    \n",
    "    for i in range(iterations):\n",
    "        data_x, data_y = get_sample(train_x, train_y, 0.8)\n",
    "        model.fit(\n",
    "            x=data_x, \n",
    "            y=data_y,\n",
    "            batch_size=batch_size,\n",
    "            epochs=epochs,\n",
    "            verbose=1\n",
    "        )\n",
    "       \n",
    "    return model"
   ]
  },
  {
   "cell_type": "code",
   "execution_count": 42,
   "metadata": {},
   "outputs": [
    {
     "name": "stdout",
     "output_type": "stream",
     "text": [
      "Epoch 1/1\n",
      "11984/11984 [==============================] - 13s 1ms/step - loss: 0.9925 - acc: 0.6980\n",
      "Epoch 1/1\n",
      "11984/11984 [==============================] - 12s 1ms/step - loss: 0.5257 - acc: 0.8501\n",
      "Epoch 1/1\n",
      "11984/11984 [==============================] - 12s 1ms/step - loss: 0.4599 - acc: 0.8648\n",
      "Epoch 1/1\n",
      "11984/11984 [==============================] - 12s 1ms/step - loss: 0.4072 - acc: 0.8843\n",
      "Epoch 1/1\n",
      "11984/11984 [==============================] - 12s 1ms/step - loss: 0.3599 - acc: 0.8926\n",
      "Epoch 1/1\n",
      "11984/11984 [==============================] - 12s 1ms/step - loss: 0.3466 - acc: 0.8980\n",
      "Epoch 1/1\n",
      "11984/11984 [==============================] - 12s 1ms/step - loss: 0.3252 - acc: 0.9056\n",
      "Epoch 1/1\n",
      "11984/11984 [==============================] - 12s 1ms/step - loss: 0.3127 - acc: 0.9060\n",
      "Epoch 1/1\n",
      "11984/11984 [==============================] - 12s 1ms/step - loss: 0.2968 - acc: 0.9112\n",
      "Epoch 1/1\n",
      "11984/11984 [==============================] - 13s 1ms/step - loss: 0.2924 - acc: 0.9113\n",
      "Epoch 1/1\n",
      "11984/11984 [==============================] - 16s 1ms/step - loss: 0.2708 - acc: 0.9196\n",
      "Epoch 1/1\n",
      "11984/11984 [==============================] - 12s 1ms/step - loss: 0.2681 - acc: 0.9167\n",
      "Epoch 1/1\n",
      "11984/11984 [==============================] - 12s 1ms/step - loss: 0.2649 - acc: 0.9187\n",
      "Epoch 1/1\n",
      "11984/11984 [==============================] - 12s 1ms/step - loss: 0.2514 - acc: 0.9246\n",
      "Epoch 1/1\n",
      "11984/11984 [==============================] - 13s 1ms/step - loss: 0.2478 - acc: 0.9255\n",
      "Epoch 1/1\n",
      "11984/11984 [==============================] - 13s 1ms/step - loss: 0.2386 - acc: 0.9280\n",
      "Epoch 1/1\n",
      "11984/11984 [==============================] - 12s 1ms/step - loss: 0.2383 - acc: 0.9278\n",
      "Epoch 1/1\n",
      "11984/11984 [==============================] - 12s 1ms/step - loss: 0.2242 - acc: 0.9301\n",
      "Epoch 1/1\n",
      "11984/11984 [==============================] - 12s 1ms/step - loss: 0.2256 - acc: 0.9317\n",
      "Epoch 1/1\n",
      "11984/11984 [==============================] - 12s 1ms/step - loss: 0.2136 - acc: 0.9332\n",
      "Epoch 1/1\n",
      "11984/11984 [==============================] - 12s 1ms/step - loss: 0.2171 - acc: 0.9342\n",
      "Epoch 1/1\n",
      "11984/11984 [==============================] - 13s 1ms/step - loss: 0.2087 - acc: 0.9354\n",
      "Epoch 1/1\n",
      "11984/11984 [==============================] - 13s 1ms/step - loss: 0.2130 - acc: 0.9343\n",
      "Epoch 1/1\n",
      "11984/11984 [==============================] - 13s 1ms/step - loss: 0.2032 - acc: 0.9390\n",
      "Epoch 1/1\n",
      "11984/11984 [==============================] - 13s 1ms/step - loss: 0.1994 - acc: 0.9390\n",
      "Epoch 1/1\n",
      "11984/11984 [==============================] - 13s 1ms/step - loss: 0.1976 - acc: 0.9379\n",
      "Epoch 1/1\n",
      "11984/11984 [==============================] - 13s 1ms/step - loss: 0.1951 - acc: 0.9374\n",
      "Epoch 1/1\n",
      "11984/11984 [==============================] - 12s 1ms/step - loss: 0.1922 - acc: 0.9399\n",
      "Epoch 1/1\n",
      "11984/11984 [==============================] - 14s 1ms/step - loss: 0.1901 - acc: 0.9430\n",
      "Epoch 1/1\n",
      "11984/11984 [==============================] - 13s 1ms/step - loss: 0.1743 - acc: 0.9455\n",
      "Epoch 1/1\n",
      "11984/11984 [==============================] - 12s 996us/step - loss: 0.1793 - acc: 0.9447\n",
      "Epoch 1/1\n",
      "11984/11984 [==============================] - 13s 1ms/step - loss: 0.1784 - acc: 0.9453\n",
      "Epoch 1/1\n",
      "11984/11984 [==============================] - 12s 1ms/step - loss: 0.1707 - acc: 0.9465\n",
      "Epoch 1/1\n",
      "11984/11984 [==============================] - 12s 997us/step - loss: 0.1706 - acc: 0.9471\n",
      "Epoch 1/1\n",
      "11984/11984 [==============================] - 11s 935us/step - loss: 0.1637 - acc: 0.9504\n",
      "Test accuracy: 0.9532585470085471\n"
     ]
    }
   ],
   "source": [
    "epochs = 1\n",
    "iterations = 35\n",
    "batch_size = 100\n",
    "not_mnist_test_x = not_mnist_test_x.reshape(not_mnist_test_x.shape[0], image_size, image_size, 1)\n",
    "model = train_model(not_mnist_train_x, not_mnist_train_y, 'relu')\n",
    "print(\"Test accuracy: \" + str(model.evaluate(not_mnist_test_x, not_mnist_test_y, verbose=0)[1]))"
   ]
  },
  {
   "cell_type": "markdown",
   "metadata": {},
   "source": [
    "To achieve accuracy $\\geq 0.95$ I've:\n",
    "* added dropout layers to prevent overfitting,\n",
    "* added max pooling.\n",
    "* generated many samples of dataset with different random shifts of images (the most important optimization).\n",
    "\n",
    "I also tried to use the same technique as in random forest, but it didn't increase accuracy.  \n",
    "I tried to add random noise, but didn't notice any effect."
   ]
  }
 ],
 "metadata": {
  "kernelspec": {
   "display_name": "Python 3",
   "language": "python",
   "name": "python3"
  },
  "language_info": {
   "codemirror_mode": {
    "name": "ipython",
    "version": 3
   },
   "file_extension": ".py",
   "mimetype": "text/x-python",
   "name": "python",
   "nbconvert_exporter": "python",
   "pygments_lexer": "ipython3",
   "version": "3.6.7"
  }
 },
 "nbformat": 4,
 "nbformat_minor": 2
}
