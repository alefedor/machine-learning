{
 "cells": [
  {
   "cell_type": "code",
   "execution_count": 84,
   "metadata": {},
   "outputs": [],
   "source": [
    "import numpy as np\n",
    "import pandas as pd\n",
    "import statistics \n",
    "from statistics import mode "
   ]
  },
  {
   "cell_type": "code",
   "execution_count": 93,
   "metadata": {},
   "outputs": [],
   "source": [
    "spam_data = np.array(pd.read_csv(\"../Datasets/spam.csv\"))\n",
    "\n",
    "cancer_data = np.array(pd.read_csv(\"../Datasets/cancer.csv\"))\n",
    "\n",
    "for i in range(len(cancer_data)):\n",
    "    label = cancer_data[i][0]\n",
    "    for j in range(1, len(cancer_data[i])):\n",
    "        cancer_data[i][j - 1] = cancer_data[i][j]\n",
    "    cancer_data[i][-1] = label"
   ]
  },
  {
   "cell_type": "markdown",
   "metadata": {},
   "source": [
    "# Task 1"
   ]
  },
  {
   "cell_type": "code",
   "execution_count": 86,
   "metadata": {},
   "outputs": [],
   "source": [
    "def sqrnorm(x):\n",
    "    return np.dot(x, x)\n",
    "\n",
    "def knn_classify(x, data, k):\n",
    "    data = list(data)\n",
    "    data.sort(key = lambda p: sqrnorm(p[:-1] - x))\n",
    "    nearest = data[:k]\n",
    "    labels = []\n",
    "    for p in nearest:\n",
    "        labels.append(p[-1])\n",
    "    return max(set(labels), key=labels.count)    "
   ]
  },
  {
   "cell_type": "code",
   "execution_count": 87,
   "metadata": {},
   "outputs": [],
   "source": [
    "def loo(data, k, function):\n",
    "    d = len(data)\n",
    "    sum = 0\n",
    "    for i in range(d):\n",
    "        data_copy = list()\n",
    "        for j in range(d):\n",
    "            if (i != j):\n",
    "                data_copy.append(data[j])\n",
    "        if (function(data[i][:-1], data_copy, k) != data[i][-1]):\n",
    "            sum = sum + 1\n",
    "    return sum / float(d)        "
   ]
  },
  {
   "cell_type": "code",
   "execution_count": 88,
   "metadata": {},
   "outputs": [
    {
     "name": "stdout",
     "output_type": "stream",
     "text": [
      "LOO for spam dataset with k=1:\n",
      "0.16952836339926103\n",
      "LOO for spam dataset with k=2:\n",
      "0.19061073679634863\n",
      "LOO for spam dataset with k=3:\n",
      "0.18517713540534667\n",
      "LOO for spam dataset with k=4:\n",
      "0.19278417735274941\n",
      "LOO for spam dataset with k=5:\n",
      "0.1858291675722669\n",
      "LOO for spam dataset with k=6:\n",
      "0.20039121930015213\n",
      "LOO for spam dataset with k=7:\n",
      "0.1958269941317105\n",
      "LOO for spam dataset with k=8:\n",
      "0.2010432514670724\n",
      "LOO for spam dataset with k=9:\n",
      "0.202782003912193\n",
      "LOO for spam dataset with k=10:\n",
      "0.20212997174527278\n"
     ]
    }
   ],
   "source": [
    "for k in range(1, 11):\n",
    "    print(\"LOO for spam dataset with k=\"+str(k)+\":\")\n",
    "    print(loo(spam_data, k, knn_classify))"
   ]
  },
  {
   "cell_type": "code",
   "execution_count": 94,
   "metadata": {},
   "outputs": [
    {
     "name": "stdout",
     "output_type": "stream",
     "text": [
      "LOO for cancer dataset with k=1:\n",
      "0.0843585237258348\n",
      "LOO for cancer dataset with k=2:\n",
      "0.0843585237258348\n",
      "LOO for cancer dataset with k=3:\n",
      "0.07381370826010544\n",
      "LOO for cancer dataset with k=4:\n",
      "0.07381370826010544\n",
      "LOO for cancer dataset with k=5:\n",
      "0.06678383128295255\n",
      "LOO for cancer dataset with k=6:\n",
      "0.070298769771529\n",
      "LOO for cancer dataset with k=7:\n",
      "0.06854130052724078\n",
      "LOO for cancer dataset with k=8:\n",
      "0.06854130052724078\n",
      "LOO for cancer dataset with k=9:\n",
      "0.06678383128295255\n",
      "LOO for cancer dataset with k=10:\n",
      "0.06854130052724078\n"
     ]
    }
   ],
   "source": [
    "for k in range(1, 11):\n",
    "    print(\"LOO for cancer dataset with k=\"+str(k)+\":\")\n",
    "    print(loo(cancer_data, k, knn_classify))"
   ]
  },
  {
   "cell_type": "markdown",
   "metadata": {},
   "source": [
    "# Task 2"
   ]
  },
  {
   "cell_type": "code",
   "execution_count": 95,
   "metadata": {},
   "outputs": [],
   "source": [
    "def scale_min_max(data):\n",
    "    data = data.copy()\n",
    "    features = len(data[0]) - 1\n",
    "    \n",
    "    for j in range(features):\n",
    "        mn = min([data[i][j] for i in range(len(data))])\n",
    "        mx = max([data[i][j] for i in range(len(data))])\n",
    "        for i in range(len(data)):\n",
    "            data[i][j] = (data[i][j] - mn) / (mx - mn)\n",
    "    return data"
   ]
  },
  {
   "cell_type": "code",
   "execution_count": 96,
   "metadata": {},
   "outputs": [],
   "source": [
    "scaled_spam_data = scale_min_max(spam_data)\n",
    "scaled_cancer_data = scale_min_max(cancer_data)"
   ]
  },
  {
   "cell_type": "code",
   "execution_count": 97,
   "metadata": {},
   "outputs": [
    {
     "name": "stdout",
     "output_type": "stream",
     "text": [
      "LOO for scaled spam dataset with k=1:\n",
      "0.08780699847859161\n",
      "LOO for scaled spam dataset with k=2:\n",
      "0.10106498587263639\n",
      "LOO for scaled spam dataset with k=3:\n",
      "0.09476200825907412\n",
      "LOO for scaled spam dataset with k=4:\n",
      "0.10149967398391654\n",
      "LOO for scaled spam dataset with k=5:\n",
      "0.09519669637035427\n",
      "LOO for scaled spam dataset with k=6:\n",
      "0.102803738317757\n",
      "LOO for scaled spam dataset with k=7:\n",
      "0.09932623342751576\n",
      "LOO for scaled spam dataset with k=8:\n",
      "0.10236905020647685\n",
      "LOO for scaled spam dataset with k=9:\n",
      "0.1019343620951967\n",
      "LOO for scaled spam dataset with k=10:\n",
      "0.10519452292979788\n"
     ]
    }
   ],
   "source": [
    "for k in range(1, 11):\n",
    "    print(\"LOO for scaled spam dataset with k=\"+str(k)+\":\")\n",
    "    print(loo(scaled_spam_data, k, knn_classify))"
   ]
  },
  {
   "cell_type": "code",
   "execution_count": 98,
   "metadata": {},
   "outputs": [
    {
     "name": "stdout",
     "output_type": "stream",
     "text": [
      "LOO for scaled cancer dataset with k=1:\n",
      "0.04745166959578207\n",
      "LOO for scaled cancer dataset with k=2:\n",
      "0.04745166959578207\n",
      "LOO for scaled cancer dataset with k=3:\n",
      "0.029876977152899824\n",
      "LOO for scaled cancer dataset with k=4:\n",
      "0.028119507908611598\n",
      "LOO for scaled cancer dataset with k=5:\n",
      "0.033391915641476276\n",
      "LOO for scaled cancer dataset with k=6:\n",
      "0.03163444639718805\n",
      "LOO for scaled cancer dataset with k=7:\n",
      "0.029876977152899824\n",
      "LOO for scaled cancer dataset with k=8:\n",
      "0.029876977152899824\n",
      "LOO for scaled cancer dataset with k=9:\n",
      "0.029876977152899824\n",
      "LOO for scaled cancer dataset with k=10:\n",
      "0.026362038664323375\n"
     ]
    }
   ],
   "source": [
    "for k in range(1, 11):\n",
    "    print(\"LOO for scaled cancer dataset with k=\"+str(k)+\":\")\n",
    "    print(loo(scaled_cancer_data, k, knn_classify))"
   ]
  },
  {
   "cell_type": "code",
   "execution_count": 3,
   "metadata": {},
   "outputs": [
    {
     "name": "stdout",
     "output_type": "stream",
     "text": [
      "2\n"
     ]
    }
   ],
   "source": [
    "labels = [1, 2, 2, 1, 1, 2, 3, 2]\n",
    "print(max(set(labels), key=labels.count))"
   ]
  },
  {
   "cell_type": "code",
   "execution_count": null,
   "metadata": {},
   "outputs": [],
   "source": []
  }
 ],
 "metadata": {
  "kernelspec": {
   "display_name": "Python 3",
   "language": "python",
   "name": "python3"
  },
  "language_info": {
   "codemirror_mode": {
    "name": "ipython",
    "version": 3
   },
   "file_extension": ".py",
   "mimetype": "text/x-python",
   "name": "python",
   "nbconvert_exporter": "python",
   "pygments_lexer": "ipython3",
   "version": "3.6.7"
  }
 },
 "nbformat": 4,
 "nbformat_minor": 2
}
