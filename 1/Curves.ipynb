{
 "cells": [
  {
   "cell_type": "code",
   "execution_count": 42,
   "metadata": {},
   "outputs": [],
   "source": [
    "import numpy as np\n",
    "import pandas as pd\n",
    "import matplotlib.pyplot as plt"
   ]
  },
  {
   "cell_type": "code",
   "execution_count": 16,
   "metadata": {},
   "outputs": [],
   "source": [
    "spam_data = np.array(pd.read_csv(\"../Datasets/spam.csv\"))\n",
    "\n",
    "cancer_data = np.array(pd.read_csv(\"../Datasets/cancer.csv\"))\n",
    "\n",
    "for i in range(len(cancer_data)):\n",
    "    label = cancer_data[i][0]\n",
    "    for j in range(1, len(cancer_data[i])):\n",
    "        cancer_data[i][j - 1] = cancer_data[i][j]\n",
    "    cancer_data[i][-1] = 0 if (label == 'B') else 1"
   ]
  },
  {
   "cell_type": "markdown",
   "metadata": {},
   "source": [
    "# Task 7"
   ]
  },
  {
   "cell_type": "code",
   "execution_count": 111,
   "metadata": {},
   "outputs": [],
   "source": [
    "def calculate_auc(points):\n",
    "    points.sort(key = lambda p: p[0])\n",
    "    \n",
    "    result = 0\n",
    "    \n",
    "    for i in range(1, len(points)):\n",
    "        result = result + (points[i][0] - points[i - 1][0]) * (points[i - 1][1] + points[i][1]) / 2.0\n",
    "        # may also take left value instead of calculating average\n",
    "        \n",
    "    return result\n",
    "\n",
    "def normalize_point(point):\n",
    "    if (point[0] - point[1] > 0): # under diagonal\n",
    "        return [1 - point[0], 1 - point[1]]\n",
    "    return point\n",
    "\n",
    "def auc_point(tp, fp, tn, fn):\n",
    "    false_positive = fp / (fp + tn)\n",
    "    true_positive = tp / (tp + fn)\n",
    "        \n",
    "    return normalize_point([false_positive, true_positive])\n",
    "\n",
    "def top_roc_curves(data):\n",
    "    data = list(data)\n",
    "    features_number = len(data[0]) - 1\n",
    "    variants = []\n",
    "    for f in range(features_number):\n",
    "        points = [[0, 0], [1, 1]]\n",
    "        \n",
    "        tp = 0\n",
    "        fp = 0\n",
    "        tn = 0\n",
    "        fn = 0\n",
    "        # initially all labels are 0\n",
    "        for i in range(len(data)):\n",
    "            if (data[i][-1] == 0):\n",
    "                tn = tn + 1\n",
    "            else:\n",
    "                fn = fn + 1\n",
    "                \n",
    "        points.append(auc_point(tp, fp, tn, fn))        \n",
    "        data.sort(key = lambda x: x[f])        \n",
    "            \n",
    "        # labels become 1 from left to right        \n",
    "        for i in range(len(data)):\n",
    "            if (data[i][-1] == 0):\n",
    "                tn = tn - 1\n",
    "                fp = fp + 1\n",
    "            else:\n",
    "                fn = fn - 1\n",
    "                tp = tp + 1\n",
    "            if (i + 1 == len(data) or data[i][f] != data[i + 1][f]): # can be splitted here  \n",
    "                points.append(auc_point(tp, fp, tn, fn))\n",
    "        \n",
    "        variants.append([calculate_auc(points), points, f]) \n",
    "        \n",
    "    variants.sort(key = lambda x: -x[0])\n",
    "    return variants  \n",
    "     "
   ]
  },
  {
   "cell_type": "code",
   "execution_count": 112,
   "metadata": {},
   "outputs": [],
   "source": [
    "def draw_curve(points):\n",
    "    points.sort(key = lambda p: p[0])\n",
    "    plt.close()\n",
    "    \n",
    "    plt.plot([x[0] for x in points], [x[1] for x in points])\n",
    "    plt.xlabel(\"False positive rate\")\n",
    "    plt.ylabel(\"True positive rate\")\n",
    "    plt.show()"
   ]
  },
  {
   "cell_type": "code",
   "execution_count": 113,
   "metadata": {},
   "outputs": [
    {
     "name": "stdout",
     "output_type": "stream",
     "text": [
      "Cancer data\n",
      "0-th feature is 22\n",
      "AUC is 0.9745652978172397\n"
     ]
    },
    {
     "data": {
      "image/png": "[encoded data removed]",
      "text/plain": [
       "<matplotlib.figure.Figure at 0x7fd041614ef0>"
      ]
     },
     "metadata": {
      "needs_background": "light"
     },
     "output_type": "display_data"
    },
    {
     "name": "stdout",
     "output_type": "stream",
     "text": [
      "1-th feature is 20\n",
      "AUC is 0.969643517784472\n"
     ]
    },
    {
     "data": {
      "image/png": "[encoded data removed]",
      "text/plain": [
       "<matplotlib.figure.Figure at 0x7fd0444182b0>"
      ]
     },
     "metadata": {
      "needs_background": "light"
     },
     "output_type": "display_data"
    },
    {
     "name": "stdout",
     "output_type": "stream",
     "text": [
      "2-th feature is 23\n",
      "AUC is 0.9689828761693358\n"
     ]
    },
    {
     "data": {
      "image/png": "[encoded data removed]",
      "text/plain": [
       "<matplotlib.figure.Figure at 0x7fd0414866d8>"
      ]
     },
     "metadata": {
      "needs_background": "light"
     },
     "output_type": "display_data"
    }
   ],
   "source": [
    "curves = top_roc_curves(cancer_data)\n",
    "print(\"Cancer data\")\n",
    "for i in range(3):\n",
    "    print(str(i) + \"-th feature is \" + str(curves[i][2]))\n",
    "    print(\"AUC is \" + str(curves[i][0]))\n",
    "    draw_curve(curves[i][1])  "
   ]
  },
  {
   "cell_type": "code",
   "execution_count": 114,
   "metadata": {},
   "outputs": [
    {
     "name": "stdout",
     "output_type": "stream",
     "text": [
      "Spam data\n",
      "0-th feature is 51\n",
      "AUC is 0.8286336287975968\n"
     ]
    },
    {
     "data": {
      "image/png": "[encoded data removed]",
      "text/plain": [
       "<matplotlib.figure.Figure at 0x7fd0413c5828>"
      ]
     },
     "metadata": {
      "needs_background": "light"
     },
     "output_type": "display_data"
    },
    {
     "name": "stdout",
     "output_type": "stream",
     "text": [
      "1-th feature is 55\n",
      "AUC is 0.8041352664994804\n"
     ]
    },
    {
     "data": {
      "image/png": "[encoded data removed]",
      "text/plain": [
       "<matplotlib.figure.Figure at 0x7fd0413c5fd0>"
      ]
     },
     "metadata": {
      "needs_background": "light"
     },
     "output_type": "display_data"
    },
    {
     "name": "stdout",
     "output_type": "stream",
     "text": [
      "2-th feature is 54\n",
      "AUC is 0.7881931942190192\n"
     ]
    },
    {
     "data": {
      "image/png": "[encoded data removed]",
      "text/plain": [
       "<matplotlib.figure.Figure at 0x7fd04161b550>"
      ]
     },
     "metadata": {
      "needs_background": "light"
     },
     "output_type": "display_data"
    }
   ],
   "source": [
    "curves = top_roc_curves(spam_data)\n",
    "print(\"Spam data\")\n",
    "for i in range(3):\n",
    "    print(str(i) + \"-th feature is \" + str(curves[i][2]))\n",
    "    print(\"AUC is \" + str(curves[i][0]))\n",
    "    draw_curve(curves[i][1])    "
   ]
  },
  {
   "cell_type": "markdown",
   "metadata": {},
   "source": [
    "51-th feature has lots of equal values, so there is a gap between false positive rate 0.28 and 1.0 (becase we can not classify differently points with the same values of that feature).\n",
    "If I calculated auc with taking not average between adjacent points but true positive rate in the left point then 51-th feature would be worse than others.\n",
    "Hovewer, calculating average is quite nice because we can get all the points in a segment between two known points by randomizing them with different probabilities."
   ]
  },
  {
   "cell_type": "markdown",
   "metadata": {},
   "source": [
    "# Task 8"
   ]
  },
  {
   "cell_type": "code",
   "execution_count": 3,
   "metadata": {},
   "outputs": [],
   "source": [
    "def split_data(data):\n",
    "    training_data = []\n",
    "    validation_data = []\n",
    "    \n",
    "    validation_size = len(data) * 0.2\n",
    "    \n",
    "    training_data.extend(data)\n",
    "    \n",
    "    while (len(validation_data) < validation_size):\n",
    "        r = np.random.randint(0, len(training_data))\n",
    "        validation_data.append(training_data[r])\n",
    "        training_data.pop(r)\n",
    "        \n",
    "    return (np.array(training_data), np.array(validation_data))    "
   ]
  },
  {
   "cell_type": "code",
   "execution_count": 4,
   "metadata": {},
   "outputs": [],
   "source": [
    "def examine(data):\n",
    "    n = len(data)\n",
    "    m = 0\n",
    "    \n",
    "    for i in range(len(data)):\n",
    "        if (data[i][-1] == 1):\n",
    "            m = m + 1\n",
    "    print(\"Percentage of class 1 in data is \" + str(m / float(n)))        "
   ]
  },
  {
   "cell_type": "code",
   "execution_count": 14,
   "metadata": {},
   "outputs": [
    {
     "name": "stdout",
     "output_type": "stream",
     "text": [
      "Training data:\n",
      "Percentage of class 1 in data is 0.39402173913043476\n",
      "Validation data:\n",
      "Percentage of class 1 in data is 0.3941368078175896\n"
     ]
    }
   ],
   "source": [
    "training_spam_data, validation_spam_data = split_data(spam_data)\n",
    "print(\"Training data:\")\n",
    "examine(training_spam_data)\n",
    "print(\"Validation data:\")\n",
    "examine(validation_spam_data)"
   ]
  },
  {
   "cell_type": "code",
   "execution_count": 168,
   "metadata": {},
   "outputs": [
    {
     "name": "stdout",
     "output_type": "stream",
     "text": [
      "Training data:\n",
      "Percentage of class 1 in data is 0.367032967032967\n",
      "Validation data:\n",
      "Percentage of class 1 in data is 0.39473684210526316\n"
     ]
    }
   ],
   "source": [
    "training_cancer_data, validation_cancer_data = split_data(cancer_data)\n",
    "print(\"Training data:\")\n",
    "examine(training_cancer_data)\n",
    "print(\"Validation data:\")\n",
    "examine(validation_cancer_data)"
   ]
  },
  {
   "cell_type": "markdown",
   "metadata": {},
   "source": [
    "# Task 9"
   ]
  },
  {
   "cell_type": "code",
   "execution_count": 167,
   "metadata": {},
   "outputs": [],
   "source": [
    "class DecisionTreeNode:\n",
    "    def __init__(self):\n",
    "        self.threshold_function = None # if true then go to the right node\n",
    "        self.left = None\n",
    "        self.right = None\n",
    "        self.positive_class_probability = 0\n",
    "\n",
    "def top_tree(trees, data):\n",
    "    segments = 300\n",
    "    variants = []\n",
    "    \n",
    "    positive = 0\n",
    "    negative = 0\n",
    "    \n",
    "    for x in data:\n",
    "        if (x[-1] == 1):\n",
    "            positive = positive + 1\n",
    "        else:\n",
    "            negative = negative + 1\n",
    "    \n",
    "    for t in range(len(trees)):\n",
    "        tree = trees[t]\n",
    "        points = [[0, 0], [1, 1]]\n",
    "        \n",
    "        data_probabilities = []\n",
    "        for x in data:\n",
    "            data_probabilities.append([calculate_probability(x, tree), x[-1]])\n",
    "        \n",
    "        data_probabilities.sort(key = lambda x: -x[0])\n",
    "        \n",
    "        current_point = [0, 0]\n",
    "        \n",
    "        for x in data_probabilities:\n",
    "            if (x[1] == 1):\n",
    "                current_point[1] = current_point[1] + 1.0 / positive\n",
    "            else:\n",
    "                current_point[0] = current_point[0] + 1.0 / negative\n",
    "            \n",
    "            points.append(current_point.copy())\n",
    "            \n",
    "        variants.append([calculate_auc(points), points, t])\n",
    "    \n",
    "    variants.sort(key = lambda x: -x[0])\n",
    "    \n",
    "    return variants\n",
    "        \n",
    "def positive_probability(data):\n",
    "    num = 0\n",
    "    for x in data:\n",
    "        if (x[-1] == 1):\n",
    "            num = num + 1\n",
    "    return num / float(len(data))   \n",
    "\n",
    "def gini_impurity(positive, negative):\n",
    "    return 2.0 * (positive * negative) / float(positive + negative) ** 2\n",
    "    \n",
    "# no division on |x_total|, because doesnt change anything    \n",
    "def information_gain(lp, ln, rp, rn):\n",
    "    left_num = lp + ln\n",
    "    right_num = rp + rn\n",
    "    \n",
    "    if (left_num == 0 or right_num == 0):\n",
    "        return 0 # no information gain.\n",
    "    \n",
    "    node_num = left_num + right_num\n",
    "    \n",
    "    result = gini_impurity(lp + rp, ln + rn) * node_num \n",
    "    \n",
    "    result = result - gini_impurity(lp, ln) * left_num\n",
    "    result = result - gini_impurity(rp, rn) * right_num\n",
    "    return result\n",
    "    \n",
    "def split_by_threshold(data, threshold_function):\n",
    "    left_data = []\n",
    "    right_data = []\n",
    "    \n",
    "    for x in data:\n",
    "        if (threshold_function(x)):\n",
    "            right_data.append(x)\n",
    "        else:\n",
    "            left_data.append(x)\n",
    "            \n",
    "    return (left_data, right_data)\n",
    "    \n",
    "def build_decision_tree(data, level):\n",
    "    result = DecisionTreeNode()\n",
    "    \n",
    "    if (level == 0):\n",
    "        result.positive_class_probability = positive_probability(data)\n",
    "        return result\n",
    "    \n",
    "    if (not data is list):\n",
    "        data = list(data)\n",
    "        \n",
    "    features_number = len(data[0]) - 1\n",
    "    \n",
    "    best_ig = 0\n",
    "    threshold_function = None\n",
    "    \n",
    "    for f in range(features_number):\n",
    "        lp = 0 # left positive\n",
    "        ln = 0 # left negative\n",
    "        rp = 0 # right positive\n",
    "        rn = 0 # right negative\n",
    "\n",
    "        for x in data:\n",
    "            if (x[-1] == 1):\n",
    "                lp = lp + 1\n",
    "            else:\n",
    "                ln = ln + 1\n",
    "                \n",
    "        data.sort(key = lambda x: x[f])        \n",
    "                    \n",
    "        for i in range(len(data)): \n",
    "            if (data[i][-1] == 1):\n",
    "                rp = rp + 1\n",
    "                lp = lp - 1\n",
    "            else:\n",
    "                rn = rn + 1\n",
    "                ln = ln - 1\n",
    "            \n",
    "            ig = information_gain(lp, ln, rp, rn)\n",
    "            \n",
    "            if (i + 1 == len(data) or data[i][f] != data[i + 1][f]): # can split here\n",
    "                if (ig > 0 and ig > best_ig):\n",
    "                    best_ig = ig\n",
    "                    threshold = data[i][f]\n",
    "                    threshold_function = lambda x, threshold=threshold, f=f: x[f] <= threshold\n",
    "                                  \n",
    "    if (best_ig == 0):\n",
    "        result.positive_class_probability = positive_probability(data)\n",
    "        return result\n",
    "\n",
    "    left_data, right_data = split_by_threshold(data, threshold_function)\n",
    "    result.threshold_function = threshold_function\n",
    "    result.left = build_decision_tree(left_data, level - 1)\n",
    "    result.right = build_decision_tree(right_data, level - 1)\n",
    "    \n",
    "    return result\n",
    "\n",
    "def calculate_probability(x, tree):\n",
    "    if (tree.threshold_function is None):\n",
    "        return tree.positive_class_probability\n",
    "    \n",
    "    if (tree.threshold_function(x)):\n",
    "        return calculate_probability(x, tree.right)\n",
    "    else:\n",
    "        return calculate_probability(x, tree.left)\n",
    "        "
   ]
  },
  {
   "cell_type": "code",
   "execution_count": 172,
   "metadata": {},
   "outputs": [
    {
     "name": "stdout",
     "output_type": "stream",
     "text": [
      "Cancer data\n",
      "Best AUC is 0.9719806763285026\n",
      "Level of the best tree is 4\n",
      "Validation error for the tree of level 4 is 0.9719806763285026\n",
      "Validation error for the tree of level 3 is 0.9716586151368762\n",
      "Validation error for the tree of level 2 is 0.9665056360708536\n",
      "Validation error for the tree of level 5 is 0.9165861513687611\n",
      "Validation error for the tree of level 6 is 0.9165861513687611\n",
      "Validation error for the tree of level 7 is 0.9165861513687611\n",
      "Validation error for the tree of level 8 is 0.9165861513687611\n",
      "Validation error for the tree of level 9 is 0.9165861513687611\n",
      "Validation error for the tree of level 10 is 0.9165861513687611\n",
      "Validation error for the tree of level 1 is 0.8512077294685991\n",
      "ROC curve for the best tree:\n"
     ]
    },
    {
     "data": {
      "image/png": "[encoded data removed]",
      "text/plain": [
       "<matplotlib.figure.Figure at 0x7fd040ca55f8>"
      ]
     },
     "metadata": {
      "needs_background": "light"
     },
     "output_type": "display_data"
    }
   ],
   "source": [
    "trees = []\n",
    "for level in range(1, 11):\n",
    "    trees.append(build_decision_tree(training_cancer_data, level))\n",
    "    \n",
    "variants = top_tree(trees, validation_cancer_data)\n",
    "print(\"Cancer data\")\n",
    "print(\"Best AUC is \" + str(variants[0][0]))\n",
    "print(\"Level of the best tree is \" + str(variants[0][2] + 1))\n",
    "for i in range(10):\n",
    "    print(\"Validation error for the tree of level \" + str(variants[i][2] + 1) + \" is \" + str(variants[i][0]))\n",
    "    \n",
    "print(\"ROC curve for the best tree:\")    \n",
    "draw_curve(variants[0][1])  "
   ]
  },
  {
   "cell_type": "code",
   "execution_count": 173,
   "metadata": {},
   "outputs": [
    {
     "name": "stdout",
     "output_type": "stream",
     "text": [
      "Spam data\n",
      "Best AUC is 0.9216357119583006\n",
      "Level of the best tree is 7\n",
      "Validation error for the tree of level 7 is 0.9216357119583006\n",
      "Validation error for the tree of level 5 is 0.9167086307848834\n",
      "Validation error for the tree of level 4 is 0.9161112592197721\n",
      "Validation error for the tree of level 8 is 0.9157854201842535\n",
      "Validation error for the tree of level 6 is 0.9149708225954624\n",
      "Validation error for the tree of level 9 is 0.9098610740839553\n",
      "Validation error for the tree of level 3 is 0.9033985998795466\n",
      "Validation error for the tree of level 10 is 0.9001698312548838\n",
      "Validation error for the tree of level 2 is 0.8256366203580333\n",
      "Validation error for the tree of level 1 is 0.733829003623731\n",
      "ROC curve for the best tree:\n"
     ]
    },
    {
     "data": {
      "image/png": "[encoded data removed]",
      "text/plain": [
       "<matplotlib.figure.Figure at 0x7fd040ca59e8>"
      ]
     },
     "metadata": {
      "needs_background": "light"
     },
     "output_type": "display_data"
    }
   ],
   "source": [
    "trees = []\n",
    "for level in range(1, 11):\n",
    "    trees.append(build_decision_tree(training_spam_data, level))\n",
    "    \n",
    "variants = top_tree(trees, validation_spam_data)\n",
    "print(\"Spam data\")\n",
    "print(\"Best AUC is \" + str(variants[0][0]))\n",
    "print(\"Level of the best tree is \" + str(variants[0][2] + 1))\n",
    "for i in range(10):\n",
    "    print(\"Validation error for the tree of level \" + str(variants[i][2] + 1) + \" is \" + str(variants[i][0]))\n",
    "    \n",
    "print(\"ROC curve for the best tree:\")    \n",
    "draw_curve(variants[0][1]) "
   ]
  },
  {
   "cell_type": "markdown",
   "metadata": {},
   "source": [
    "After level 7 our tree becomes overtrained"
   ]
  }
 ],
 "metadata": {
  "kernelspec": {
   "display_name": "Python 3",
   "language": "python",
   "name": "python3"
  },
  "language_info": {
   "codemirror_mode": {
    "name": "ipython",
    "version": 3
   },
   "file_extension": ".py",
   "mimetype": "text/x-python",
   "name": "python",
   "nbconvert_exporter": "python",
   "pygments_lexer": "ipython3",
   "version": "3.6.7"
  }
 },
 "nbformat": 4,
 "nbformat_minor": 2
}
